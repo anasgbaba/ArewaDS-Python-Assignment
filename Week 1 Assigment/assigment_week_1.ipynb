{
 "cells": [
  {
   "cell_type": "markdown",
   "metadata": {},
   "source": [
    "# Week one Assignment Solution"
   ]
  },
  {
   "cell_type": "code",
   "execution_count": 3,
   "metadata": {},
   "outputs": [
    {
     "name": "stdout",
     "output_type": "stream",
     "text": [
      "10\n"
     ]
    }
   ],
   "source": [
    "# Q1 Simple variable assignment\n",
    "x =10\n",
    "print(x)"
   ]
  },
  {
   "cell_type": "code",
   "execution_count": 4,
   "metadata": {},
   "outputs": [
    {
     "name": "stdout",
     "output_type": "stream",
     "text": [
      "25\n",
      "5.9\n",
      "John\n",
      "True\n"
     ]
    }
   ],
   "source": [
    "# Q2\n",
    "age = 25\n",
    "height = 5.9\n",
    "name = \"John\"\n",
    "is_active = True\n",
    "\n",
    "print(age)\n",
    "print(height)\n",
    "print(name)\n",
    "print(is_active)"
   ]
  },
  {
   "cell_type": "code",
   "execution_count": 5,
   "metadata": {},
   "outputs": [
    {
     "name": "stdout",
     "output_type": "stream",
     "text": [
      "16\n"
     ]
    }
   ],
   "source": [
    "# Q3 \n",
    "a = 7\n",
    "b = 9\n",
    "sum = a + b\n",
    "print(sum)"
   ]
  },
  {
   "cell_type": "code",
   "execution_count": 9,
   "metadata": {},
   "outputs": [
    {
     "name": "stdout",
     "output_type": "stream",
     "text": [
      "Alice Wonderland\n"
     ]
    }
   ],
   "source": [
    "# Q4\n",
    "first_name = \"Alice\"\n",
    "last_name = \"Wonderland\"\n",
    "\n",
    "full_name = first_name + \" \" +last_name\n",
    "print(full_name)"
   ]
  },
  {
   "cell_type": "code",
   "execution_count": 11,
   "metadata": {},
   "outputs": [
    {
     "name": "stdout",
     "output_type": "stream",
     "text": [
      "<class 'str'>\n"
     ]
    }
   ],
   "source": [
    "#Q5\n",
    "\n",
    "x = \"Hello\"\n",
    "\n",
    "print(type(x))"
   ]
  },
  {
   "cell_type": "code",
   "execution_count": 14,
   "metadata": {},
   "outputs": [
    {
     "name": "stdout",
     "output_type": "stream",
     "text": [
      "a = 5\n",
      "b =  10\n"
     ]
    }
   ],
   "source": [
    "#Q6\n",
    "a = 10\n",
    "b = 5\n",
    "a,b = b, a\n",
    "print(\"a =\",a)\n",
    "print(\"b = \",b)"
   ]
  },
  {
   "cell_type": "code",
   "execution_count": 16,
   "metadata": {},
   "outputs": [
    {
     "name": "stdout",
     "output_type": "stream",
     "text": [
      "Addition:  19\n",
      "Subtraction:  11\n",
      "Multiplication:  60\n",
      "Division:  3.75\n",
      "Modulus:  3\n"
     ]
    }
   ],
   "source": [
    "#Q7\n",
    "x = 15\n",
    "y = 4\n",
    "\n",
    "print(\"Addition: \",x+y)\n",
    "print(\"Subtraction: \",x-y)\n",
    "print(\"Multiplication: \",x*y)\n",
    "print(\"Division: \",x/y)\n",
    "print(\"Modulus: \",x%y)"
   ]
  },
  {
   "cell_type": "code",
   "execution_count": 18,
   "metadata": {},
   "outputs": [
    {
     "name": "stdout",
     "output_type": "stream",
     "text": [
      "1\n",
      "2\n",
      "3\n"
     ]
    }
   ],
   "source": [
    "#Q8\n",
    "x,y,z = 1,2,3\n",
    "print(x)\n",
    "print(y)\n",
    "print(z)"
   ]
  },
  {
   "cell_type": "code",
   "execution_count": 19,
   "metadata": {},
   "outputs": [
    {
     "name": "stdout",
     "output_type": "stream",
     "text": [
      "12\n"
     ]
    }
   ],
   "source": [
    "#Q9\n",
    "counter = 10\n",
    "counter += 5\n",
    "counter -= 3\n",
    "print(counter)"
   ]
  },
  {
   "cell_type": "code",
   "execution_count": 20,
   "metadata": {},
   "outputs": [
    {
     "name": "stdout",
     "output_type": "stream",
     "text": [
      "50\n"
     ]
    }
   ],
   "source": [
    "#Q10\n",
    "x = 100\n",
    "x = 50\n",
    "\n",
    "print(x)"
   ]
  },
  {
   "cell_type": "code",
   "execution_count": 21,
   "metadata": {},
   "outputs": [],
   "source": [
    "#Q11\n"
   ]
  }
 ],
 "metadata": {
  "kernelspec": {
   "display_name": "Python 3",
   "language": "python",
   "name": "python3"
  },
  "language_info": {
   "codemirror_mode": {
    "name": "ipython",
    "version": 3
   },
   "file_extension": ".py",
   "mimetype": "text/x-python",
   "name": "python",
   "nbconvert_exporter": "python",
   "pygments_lexer": "ipython3",
   "version": "3.9.1"
  }
 },
 "nbformat": 4,
 "nbformat_minor": 2
}
